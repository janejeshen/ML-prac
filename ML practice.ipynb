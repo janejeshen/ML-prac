{
 "cells": [
  {
   "cell_type": "code",
   "execution_count": 41,
   "metadata": {},
   "outputs": [],
   "source": [
    "import pandas as pd\n",
    "from sklearn.tree import DecisionTreeClassifier\n",
    "from sklearn.model_selection import train_test_split\n",
    "from sklearn.metrics import accuracy_score\n",
    "import joblib\n",
    "from sklearn import tree"
   ]
  },
  {
   "cell_type": "code",
   "execution_count": 42,
   "metadata": {},
   "outputs": [],
   "source": [
    "music_data = pd.read_csv(\"music.csv\")\n",
    "# input data set\n",
    "X = music_data.drop(columns = [\"genre\"])\n",
    "# output data set\n",
    "y = music_data.genre"
   ]
  },
  {
   "cell_type": "code",
   "execution_count": 43,
   "metadata": {},
   "outputs": [],
   "source": [
    "# learning and predicting\n",
    "# model = DecisionTreeClassifier()\n",
    "# model.fit(X, y)\n",
    "# predictions = model.predict([[21,1], [22,0]])\n",
    "# predictions"
   ]
  },
  {
   "cell_type": "code",
   "execution_count": 44,
   "metadata": {},
   "outputs": [],
   "source": [
    "# Calculating accuracy of model\n",
    "# X_train, X_test, y_train, y_test = train_test_split(X, y ,test_size = 0.2)\n",
    "# models = DecisionTreeClassifier()\n",
    "# models.fit(X_train, y_train)\n",
    "# prediction = models.predict(X_test)\n",
    "# score = accuracy_score(y_test,prediction)\n"
   ]
  },
  {
   "cell_type": "code",
   "execution_count": 45,
   "metadata": {},
   "outputs": [
    {
     "data": {
      "text/plain": [
       "['music-recommender.joblib']"
      ]
     },
     "execution_count": 45,
     "metadata": {},
     "output_type": "execute_result"
    }
   ],
   "source": [
    "joblib.dump(model,\"music-recommender.joblib\")"
   ]
  },
  {
   "cell_type": "code",
   "execution_count": 46,
   "metadata": {},
   "outputs": [
    {
     "data": {
      "text/plain": [
       "array(['HipHop'], dtype=object)"
      ]
     },
     "execution_count": 46,
     "metadata": {},
     "output_type": "execute_result"
    }
   ],
   "source": [
    "model = joblib.load(\"music-recommender.joblib\")\n",
    "prediction = model.predict([[21,1]])\n",
    "prediction"
   ]
  },
  {
   "cell_type": "code",
   "execution_count": 47,
   "metadata": {},
   "outputs": [],
   "source": [
    "tree.export_graphviz(model,out_file = \"music-recommender.dot\", feature_names =['age','gender'],\n",
    "                    class_names = sorted(y.unique()),rounded=True,filled=True,label='all')"
   ]
  }
 ],
 "metadata": {
  "kernelspec": {
   "display_name": "Python 3",
   "language": "python",
   "name": "python3"
  },
  "language_info": {
   "codemirror_mode": {
    "name": "ipython",
    "version": 3
   },
   "file_extension": ".py",
   "mimetype": "text/x-python",
   "name": "python",
   "nbconvert_exporter": "python",
   "pygments_lexer": "ipython3",
   "version": "3.8.5"
  }
 },
 "nbformat": 4,
 "nbformat_minor": 4
}
